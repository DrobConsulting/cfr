{
 "cells": [
  {
   "cell_type": "code",
   "execution_count": 1,
   "metadata": {},
   "outputs": [],
   "source": [
    "import numpy as np\n",
    "import pdb"
   ]
  },
  {
   "cell_type": "code",
   "execution_count": 14,
   "metadata": {},
   "outputs": [],
   "source": [
    "class CFR_RPS:\n",
    "    def __init__(self,oppStart = [.4,.3,.3]):\n",
    "        self.Rock, self.Paper, self.Scissors, self.Num_Actions = 0,1,2,3\n",
    "        self.regretSum = np.zeros(self.Num_Actions)\n",
    "        self.oppRegretSum = np.zeros(self.Num_Actions)\n",
    "        self.strategy = np.zeros(self.Num_Actions)\n",
    "        self.strategySum = np.zeros(self.Num_Actions)\n",
    "        self.oppStrategySum = np.zeros(self.Num_Actions)\n",
    "        self.oppStrategy = np.array(oppStart)\n",
    "    def normalize(self,strategy):\n",
    "        normalizingSum = strategy.sum()\n",
    "        if normalizingSum > 0:\n",
    "            strategy = strategy / normalizingSum\n",
    "        else:\n",
    "            strategy = np.array([1.0 / self.Num_Actions]*self.Num_Actions)\n",
    "        return strategy\n",
    "\n",
    "    def getStrategy(self):\n",
    "        self.strategy = np.maximum(self.regretSum,0)\n",
    "        \n",
    "        self.strategy = self.normalize(self.strategy)\n",
    "        self.strategySum = self.strategySum + self.strategy\n",
    "    \n",
    "    def getOppStrategy(self):\n",
    "        self.oppStrategy = np.maximum(self.oppRegretSum,0)\n",
    "        \n",
    "        self.oppStrategy = self.normalize(self.oppStrategy)\n",
    "        self.oppStrategySum = self.oppStrategySum + self.oppStrategy\n",
    "    \n",
    "    def getAction(self,strategy):\n",
    "        return np.random.choice([self.Rock,self.Paper,self.Scissors],p=strategy)\n",
    "    \n",
    "    def value(self,action,oppAction):\n",
    "        if action == oppAction:\n",
    "            return 0\n",
    "        if (action - 1)%self.Num_Actions == oppAction:\n",
    "            if action == 2 or oppAction == 2:\n",
    "                return 2\n",
    "            else:\n",
    "                return 1\n",
    "        else:\n",
    "            if action == 2 or oppAction == 2:\n",
    "                return -2\n",
    "            else:\n",
    "                return -1\n",
    "        \n",
    "    def train(self,iterations):\n",
    "        for iteration in range(iterations):\n",
    "            self.getStrategy()\n",
    "            \n",
    "            myAction = self.getAction(self.strategy)\n",
    "            oppAction = self.getAction(self.oppStrategy)\n",
    "            myActionValue = self.value(myAction,oppAction)\n",
    "            oppActionValue = self.value(oppAction,myAction)\n",
    "            for i in range(self.Num_Actions):\n",
    "                self.regretSum[i] = self.regretSum[i] + self.value(i,oppAction) - myActionValue\n",
    "            for i in range(self.Num_Actions):\n",
    "                self.oppRegretSum[i] = self.oppRegretSum[i] + self.value(i,myAction) - oppActionValue\n",
    "            #update opponent strategy\n",
    "            self.getOppStrategy()"
   ]
  },
  {
   "cell_type": "code",
   "execution_count": 15,
   "metadata": {},
   "outputs": [],
   "source": [
    "myGame = CFR_RPS()"
   ]
  },
  {
   "cell_type": "code",
   "execution_count": 16,
   "metadata": {},
   "outputs": [],
   "source": [
    "myGame.getStrategy()"
   ]
  },
  {
   "cell_type": "code",
   "execution_count": 17,
   "metadata": {},
   "outputs": [],
   "source": [
    "myGame.train(100000)"
   ]
  },
  {
   "cell_type": "code",
   "execution_count": 18,
   "metadata": {},
   "outputs": [
    {
     "data": {
      "text/plain": [
       "array([0.39826654, 0.40077521, 0.20095825])"
      ]
     },
     "execution_count": 18,
     "metadata": {},
     "output_type": "execute_result"
    }
   ],
   "source": [
    "myGame.normalize(myGame.strategySum)"
   ]
  },
  {
   "cell_type": "code",
   "execution_count": 19,
   "metadata": {},
   "outputs": [
    {
     "data": {
      "text/plain": [
       "array([0.40031127, 0.39929565, 0.20039307])"
      ]
     },
     "execution_count": 19,
     "metadata": {},
     "output_type": "execute_result"
    }
   ],
   "source": [
    "myGame.normalize(myGame.oppStrategySum)"
   ]
  },
  {
   "cell_type": "code",
   "execution_count": null,
   "metadata": {},
   "outputs": [],
   "source": []
  }
 ],
 "metadata": {
  "kernelspec": {
   "display_name": "Python 3",
   "language": "python",
   "name": "python3"
  },
  "language_info": {
   "codemirror_mode": {
    "name": "ipython",
    "version": 3
   },
   "file_extension": ".py",
   "mimetype": "text/x-python",
   "name": "python",
   "nbconvert_exporter": "python",
   "pygments_lexer": "ipython3",
   "version": "3.7.6"
  }
 },
 "nbformat": 4,
 "nbformat_minor": 4
}
